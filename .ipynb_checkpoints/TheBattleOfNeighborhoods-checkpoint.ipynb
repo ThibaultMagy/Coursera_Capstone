{
 "cells": [
  {
   "cell_type": "markdown",
   "metadata": {},
   "source": [
    "# The Batte of Neighborhoods"
   ]
  },
  {
   "cell_type": "markdown",
   "metadata": {},
   "source": [
    "## Introduction, Business Problem"
   ]
  },
  {
   "cell_type": "markdown",
   "metadata": {},
   "source": [
    "We will focus on Paris the French capital. As Paris is a great touristic French city, a lot of people come to visit it. Here you will see bars, restaurants and more. Also, Paris as a population density (inhabitants per km2) of 20.781,1. Indeed there is a large public and it will consequently be rewardful.\n",
    "Now we need to know the data required."
   ]
  },
  {
   "cell_type": "markdown",
   "metadata": {},
   "source": [
    "## Data required"
   ]
  },
  {
   "cell_type": "markdown",
   "metadata": {},
   "source": [
    "Multiple questions can be asked : Does restaurant with unusual meals really work ? What kind of restaurant should I open ? Does it really has an influence ?\n",
    "For those questions we will not answer. We will focus on the activity and the income of an area. We will need to find nearby good restaurants having goos ratings.\n",
    "\n",
    "The aim of this project is to solve the problem so we will need something that works.\n",
    "\n",
    "What data will we need :\n",
    "* Boroughs\n",
    "* Neighborhoods\n",
    "* Locations\n",
    "* Venues (locations, category)\n",
    "* Maybe some demographics can be interesting\n",
    "* Income (average)\n",
    "\n",
    "We will find these data online and some using foursquare API."
   ]
  }
 ],
 "metadata": {
  "kernelspec": {
   "display_name": "Python 3",
   "language": "python",
   "name": "python3"
  },
  "language_info": {
   "codemirror_mode": {
    "name": "ipython",
    "version": 3
   },
   "file_extension": ".py",
   "mimetype": "text/x-python",
   "name": "python",
   "nbconvert_exporter": "python",
   "pygments_lexer": "ipython3",
   "version": "3.7.1"
  }
 },
 "nbformat": 4,
 "nbformat_minor": 4
}
