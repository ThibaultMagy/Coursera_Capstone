{
 "cells": [
  {
   "cell_type": "markdown",
   "metadata": {},
   "source": [
    "# The Battle of Neighborhoods"
   ]
  },
  {
   "cell_type": "markdown",
   "metadata": {},
   "source": [
    "Let's firstly get the Paris main data. (from: https://opendata.paris.fr/explore/dataset/arrondissements/information/)"
   ]
  },
  {
   "cell_type": "markdown",
   "metadata": {},
   "source": [
    "## Imports and Packages downloading"
   ]
  },
  {
   "cell_type": "code",
   "execution_count": 14,
   "metadata": {},
   "outputs": [],
   "source": [
    "import numpy as np\n",
    "import pandas as pd\n",
    "import geocoder\n",
    "import requests\n",
    "import matplotlib.cm as cm\n",
    "import matplotlib.colors as colors\n",
    "from sklearn.cluster import KMeans\n",
    "import folium\n",
    "import json\n",
    "from pandas.io.json import json_normalize\n",
    "import matplotlib.pyplot as plt\n",
    "import re"
   ]
  },
  {
   "cell_type": "markdown",
   "metadata": {},
   "source": [
    "## Loading the dataframe"
   ]
  },
  {
   "cell_type": "code",
   "execution_count": 64,
   "metadata": {},
   "outputs": [
    {
     "data": {
      "text/html": [
       "<div>\n",
       "<style scoped>\n",
       "    .dataframe tbody tr th:only-of-type {\n",
       "        vertical-align: middle;\n",
       "    }\n",
       "\n",
       "    .dataframe tbody tr th {\n",
       "        vertical-align: top;\n",
       "    }\n",
       "\n",
       "    .dataframe thead th {\n",
       "        text-align: right;\n",
       "    }\n",
       "</style>\n",
       "<table border=\"1\" class=\"dataframe\">\n",
       "  <thead>\n",
       "    <tr style=\"text-align: right;\">\n",
       "      <th></th>\n",
       "      <th>N_SQ_AR</th>\n",
       "      <th>C_AR</th>\n",
       "      <th>C_ARINSEE</th>\n",
       "      <th>L_AR</th>\n",
       "      <th>L_AROFF</th>\n",
       "      <th>N_SQ_CO</th>\n",
       "      <th>SURFACE</th>\n",
       "      <th>PERIMETRE</th>\n",
       "      <th>Geometry X Y</th>\n",
       "      <th>Geometry</th>\n",
       "      <th>OBJECTID</th>\n",
       "      <th>LONGUEUR</th>\n",
       "    </tr>\n",
       "  </thead>\n",
       "  <tbody>\n",
       "    <tr>\n",
       "      <td>0</td>\n",
       "      <td>750000001</td>\n",
       "      <td>1</td>\n",
       "      <td>75101</td>\n",
       "      <td>1er Ardt</td>\n",
       "      <td>Louvre</td>\n",
       "      <td>750001537</td>\n",
       "      <td>1.824613e+06</td>\n",
       "      <td>6054.936862</td>\n",
       "      <td>48.8625627018,2.33644336205</td>\n",
       "      <td>{\"type\": \"Polygon\", \"coordinates\": [[[2.328007...</td>\n",
       "      <td>1</td>\n",
       "      <td>6054.680862</td>\n",
       "    </tr>\n",
       "    <tr>\n",
       "      <td>1</td>\n",
       "      <td>750000014</td>\n",
       "      <td>14</td>\n",
       "      <td>75114</td>\n",
       "      <td>14ème Ardt</td>\n",
       "      <td>Observatoire</td>\n",
       "      <td>750001537</td>\n",
       "      <td>5.614877e+06</td>\n",
       "      <td>10317.483310</td>\n",
       "      <td>48.8292445005,2.3265420442</td>\n",
       "      <td>{\"type\": \"Polygon\", \"coordinates\": [[[2.333806...</td>\n",
       "      <td>14</td>\n",
       "      <td>10316.720258</td>\n",
       "    </tr>\n",
       "    <tr>\n",
       "      <td>2</td>\n",
       "      <td>750000020</td>\n",
       "      <td>20</td>\n",
       "      <td>75120</td>\n",
       "      <td>20ème Ardt</td>\n",
       "      <td>Ménilmontant</td>\n",
       "      <td>750001537</td>\n",
       "      <td>5.983446e+06</td>\n",
       "      <td>10704.940486</td>\n",
       "      <td>48.8634605789,2.40118812928</td>\n",
       "      <td>{\"type\": \"Polygon\", \"coordinates\": [[[2.412765...</td>\n",
       "      <td>20</td>\n",
       "      <td>10704.483774</td>\n",
       "    </tr>\n",
       "    <tr>\n",
       "      <td>3</td>\n",
       "      <td>750000010</td>\n",
       "      <td>10</td>\n",
       "      <td>75110</td>\n",
       "      <td>10ème Ardt</td>\n",
       "      <td>Entrepôt</td>\n",
       "      <td>750001537</td>\n",
       "      <td>2.891739e+06</td>\n",
       "      <td>6739.375055</td>\n",
       "      <td>48.8761300365,2.36072848785</td>\n",
       "      <td>{\"type\": \"Polygon\", \"coordinates\": [[[2.364685...</td>\n",
       "      <td>10</td>\n",
       "      <td>6739.168359</td>\n",
       "    </tr>\n",
       "    <tr>\n",
       "      <td>4</td>\n",
       "      <td>750000016</td>\n",
       "      <td>16</td>\n",
       "      <td>75116</td>\n",
       "      <td>16ème Ardt</td>\n",
       "      <td>Passy</td>\n",
       "      <td>750001537</td>\n",
       "      <td>1.637254e+07</td>\n",
       "      <td>17416.109657</td>\n",
       "      <td>48.8603921054,2.26197078836</td>\n",
       "      <td>{\"type\": \"Polygon\", \"coordinates\": [[[2.274268...</td>\n",
       "      <td>16</td>\n",
       "      <td>17415.326726</td>\n",
       "    </tr>\n",
       "  </tbody>\n",
       "</table>\n",
       "</div>"
      ],
      "text/plain": [
       "     N_SQ_AR  C_AR  C_ARINSEE        L_AR       L_AROFF    N_SQ_CO  \\\n",
       "0  750000001     1      75101    1er Ardt        Louvre  750001537   \n",
       "1  750000014    14      75114  14ème Ardt  Observatoire  750001537   \n",
       "2  750000020    20      75120  20ème Ardt  Ménilmontant  750001537   \n",
       "3  750000010    10      75110  10ème Ardt      Entrepôt  750001537   \n",
       "4  750000016    16      75116  16ème Ardt         Passy  750001537   \n",
       "\n",
       "        SURFACE     PERIMETRE                 Geometry X Y  \\\n",
       "0  1.824613e+06   6054.936862  48.8625627018,2.33644336205   \n",
       "1  5.614877e+06  10317.483310   48.8292445005,2.3265420442   \n",
       "2  5.983446e+06  10704.940486  48.8634605789,2.40118812928   \n",
       "3  2.891739e+06   6739.375055  48.8761300365,2.36072848785   \n",
       "4  1.637254e+07  17416.109657  48.8603921054,2.26197078836   \n",
       "\n",
       "                                            Geometry  OBJECTID      LONGUEUR  \n",
       "0  {\"type\": \"Polygon\", \"coordinates\": [[[2.328007...         1   6054.680862  \n",
       "1  {\"type\": \"Polygon\", \"coordinates\": [[[2.333806...        14  10316.720258  \n",
       "2  {\"type\": \"Polygon\", \"coordinates\": [[[2.412765...        20  10704.483774  \n",
       "3  {\"type\": \"Polygon\", \"coordinates\": [[[2.364685...        10   6739.168359  \n",
       "4  {\"type\": \"Polygon\", \"coordinates\": [[[2.274268...        16  17415.326726  "
      ]
     },
     "execution_count": 64,
     "metadata": {},
     "output_type": "execute_result"
    }
   ],
   "source": [
    "df = pd.read_csv(\"arrondissements.csv\", sep=';')\n",
    "df.head(5)"
   ]
  },
  {
   "cell_type": "markdown",
   "metadata": {},
   "source": [
    "## Cleaning data"
   ]
  },
  {
   "cell_type": "code",
   "execution_count": 65,
   "metadata": {},
   "outputs": [],
   "source": [
    "df.drop(['N_SQ_AR', 'C_AR', 'N_SQ_CO', 'SURFACE', 'PERIMETRE', 'Geometry', 'Geometry X Y', 'OBJECTID', 'LONGUEUR'], axis=1, inplace=True)\n",
    "df.rename(columns = {'C_ARINSEE': 'Postcode', 'L_AROFF': 'Name', 'L_AR': 'Arr'}, inplace=True)"
   ]
  },
  {
   "cell_type": "code",
   "execution_count": 66,
   "metadata": {},
   "outputs": [],
   "source": [
    "ArrFormat = df['Arr'].str.extract('(\\d+)').astype(int)\n",
    "df.drop(['Arr'], axis=1, inplace=True)"
   ]
  },
  {
   "cell_type": "code",
   "execution_count": 67,
   "metadata": {},
   "outputs": [
    {
     "data": {
      "text/html": [
       "<div>\n",
       "<style scoped>\n",
       "    .dataframe tbody tr th:only-of-type {\n",
       "        vertical-align: middle;\n",
       "    }\n",
       "\n",
       "    .dataframe tbody tr th {\n",
       "        vertical-align: top;\n",
       "    }\n",
       "\n",
       "    .dataframe thead th {\n",
       "        text-align: right;\n",
       "    }\n",
       "</style>\n",
       "<table border=\"1\" class=\"dataframe\">\n",
       "  <thead>\n",
       "    <tr style=\"text-align: right;\">\n",
       "      <th></th>\n",
       "      <th>Postcode</th>\n",
       "      <th>Name</th>\n",
       "      <th>Arr</th>\n",
       "    </tr>\n",
       "  </thead>\n",
       "  <tbody>\n",
       "    <tr>\n",
       "      <td>0</td>\n",
       "      <td>75101</td>\n",
       "      <td>Louvre</td>\n",
       "      <td>1</td>\n",
       "    </tr>\n",
       "    <tr>\n",
       "      <td>1</td>\n",
       "      <td>75114</td>\n",
       "      <td>Observatoire</td>\n",
       "      <td>14</td>\n",
       "    </tr>\n",
       "    <tr>\n",
       "      <td>2</td>\n",
       "      <td>75120</td>\n",
       "      <td>Ménilmontant</td>\n",
       "      <td>20</td>\n",
       "    </tr>\n",
       "    <tr>\n",
       "      <td>3</td>\n",
       "      <td>75110</td>\n",
       "      <td>Entrepôt</td>\n",
       "      <td>10</td>\n",
       "    </tr>\n",
       "    <tr>\n",
       "      <td>4</td>\n",
       "      <td>75116</td>\n",
       "      <td>Passy</td>\n",
       "      <td>16</td>\n",
       "    </tr>\n",
       "  </tbody>\n",
       "</table>\n",
       "</div>"
      ],
      "text/plain": [
       "   Postcode          Name  Arr\n",
       "0     75101        Louvre    1\n",
       "1     75114  Observatoire   14\n",
       "2     75120  Ménilmontant   20\n",
       "3     75110      Entrepôt   10\n",
       "4     75116         Passy   16"
      ]
     },
     "execution_count": 67,
     "metadata": {},
     "output_type": "execute_result"
    }
   ],
   "source": [
    "ArrFormat.rename(columns = {0: 'Arr'}, inplace=True)\n",
    "df = pd.concat([df, ArrFormat], axis=1)\n",
    "df.head()"
   ]
  },
  {
   "cell_type": "markdown",
   "metadata": {},
   "source": [
    "## Adding income data"
   ]
  },
  {
   "cell_type": "markdown",
   "metadata": {},
   "source": [
    "As income statictics are hard to find I won't be able to scrape is (because it is in different pages)\n",
    "So I created a file having corresponding arrondissement to average income (from: http://www.kelquartier.com/ile_de_france_paris_commune_paris_1_75001-c75101/revenu_moyen.html)."
   ]
  },
  {
   "cell_type": "code",
   "execution_count": 72,
   "metadata": {},
   "outputs": [
    {
     "data": {
      "text/html": [
       "<div>\n",
       "<style scoped>\n",
       "    .dataframe tbody tr th:only-of-type {\n",
       "        vertical-align: middle;\n",
       "    }\n",
       "\n",
       "    .dataframe tbody tr th {\n",
       "        vertical-align: top;\n",
       "    }\n",
       "\n",
       "    .dataframe thead th {\n",
       "        text-align: right;\n",
       "    }\n",
       "</style>\n",
       "<table border=\"1\" class=\"dataframe\">\n",
       "  <thead>\n",
       "    <tr style=\"text-align: right;\">\n",
       "      <th></th>\n",
       "      <th>Postcode</th>\n",
       "      <th>Name</th>\n",
       "      <th>Arr</th>\n",
       "      <th>AverageIncome</th>\n",
       "    </tr>\n",
       "  </thead>\n",
       "  <tbody>\n",
       "    <tr>\n",
       "      <td>0</td>\n",
       "      <td>75101</td>\n",
       "      <td>Louvre</td>\n",
       "      <td>1</td>\n",
       "      <td>36900</td>\n",
       "    </tr>\n",
       "    <tr>\n",
       "      <td>1</td>\n",
       "      <td>75114</td>\n",
       "      <td>Observatoire</td>\n",
       "      <td>14</td>\n",
       "      <td>33100</td>\n",
       "    </tr>\n",
       "    <tr>\n",
       "      <td>2</td>\n",
       "      <td>75120</td>\n",
       "      <td>Ménilmontant</td>\n",
       "      <td>20</td>\n",
       "      <td>27800</td>\n",
       "    </tr>\n",
       "    <tr>\n",
       "      <td>3</td>\n",
       "      <td>75110</td>\n",
       "      <td>Entrepôt</td>\n",
       "      <td>10</td>\n",
       "      <td>29500</td>\n",
       "    </tr>\n",
       "    <tr>\n",
       "      <td>4</td>\n",
       "      <td>75116</td>\n",
       "      <td>Passy</td>\n",
       "      <td>16</td>\n",
       "      <td>46200</td>\n",
       "    </tr>\n",
       "  </tbody>\n",
       "</table>\n",
       "</div>"
      ],
      "text/plain": [
       "   Postcode          Name  Arr  AverageIncome\n",
       "0     75101        Louvre    1          36900\n",
       "1     75114  Observatoire   14          33100\n",
       "2     75120  Ménilmontant   20          27800\n",
       "3     75110      Entrepôt   10          29500\n",
       "4     75116         Passy   16          46200"
      ]
     },
     "execution_count": 72,
     "metadata": {},
     "output_type": "execute_result"
    }
   ],
   "source": [
    "revenu = pd.read_csv(\"revenu.csv\")\n",
    "df = df.merge(revenu, left_on='Arr', right_on='Arr')\n",
    "df.head()"
   ]
  },
  {
   "cell_type": "markdown",
   "metadata": {},
   "source": [
    "Let's sort it by income and plot it to get the best income area"
   ]
  },
  {
   "cell_type": "code",
   "execution_count": 76,
   "metadata": {},
   "outputs": [
    {
     "data": {
      "image/png": "[encoded data removed]",
      "text/plain": [
       "<Figure size 720x432 with 1 Axes>"
      ]
     },
     "metadata": {
      "needs_background": "light"
     },
     "output_type": "display_data"
    }
   ],
   "source": [
    "df.sort_values(by=['AverageIncome'], inplace=True)\n",
    "tobeplotted = df[['Name', 'AverageIncome']]\n",
    "\n",
    "tobeplotted.plot(kind='bar', figsize=(10,6))\n",
    "plt.xlabel('Arrondissement')\n",
    "plt.ylabel('Average Income')\n",
    "plt.title('Income per Arrondissement')\n",
    "\n",
    "plt.show()"
   ]
  },
  {
   "cell_type": "markdown",
   "metadata": {},
   "source": [
    "The best area to have a restaurant would be the 12th arrondissement which is Reuilly."
   ]
  },
  {
   "cell_type": "markdown",
   "metadata": {},
   "source": [
    "## Getting Venues of Paries 12 arrondissement"
   ]
  },
  {
   "cell_type": "markdown",
   "metadata": {},
   "source": [
    "Let's get it's coordinate and try to find some venues around"
   ]
  },
  {
   "cell_type": "code",
   "execution_count": null,
   "metadata": {},
   "outputs": [],
   "source": []
  }
 ],
 "metadata": {
  "kernelspec": {
   "display_name": "Python 3",
   "language": "python",
   "name": "python3"
  },
  "language_info": {
   "codemirror_mode": {
    "name": "ipython",
    "version": 3
   },
   "file_extension": ".py",
   "mimetype": "text/x-python",
   "name": "python",
   "nbconvert_exporter": "python",
   "pygments_lexer": "ipython3",
   "version": "3.7.1"
  }
 },
 "nbformat": 4,
 "nbformat_minor": 4
}
